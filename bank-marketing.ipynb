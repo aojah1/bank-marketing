{
 "cells": [
  {
   "cell_type": "markdown",
   "id": "aca8b346-3027-47e3-a2bb-79fb945b14d3",
   "metadata": {},
   "source": [
    "### OCI Data Science - Useful Tips\n",
    "<details>\n",
    "<summary><font size=\"2\">Check for Public Internet Access</font></summary>\n",
    "\n",
    "```python\n",
    "import requests\n",
    "response = requests.get(\"https://oracle.com\")\n",
    "assert response.status_code==200, \"Internet connection failed\"\n",
    "```\n",
    "</details>\n",
    "<details>\n",
    "<summary><font size=\"2\">Helpful Documentation </font></summary>\n",
    "<ul><li><a href=\"https://docs.cloud.oracle.com/en-us/iaas/data-science/using/data-science.htm\">Data Science Service Documentation</a></li>\n",
    "<li><a href=\"https://docs.cloud.oracle.com/iaas/tools/ads-sdk/latest/index.html\">ADS documentation</a></li>\n",
    "</ul>\n",
    "</details>\n",
    "<details>\n",
    "<summary><font size=\"2\">Typical Cell Imports and Settings for ADS</font></summary>\n",
    "\n",
    "```python\n",
    "%load_ext autoreload\n",
    "%autoreload 2\n",
    "%matplotlib inline\n",
    "\n",
    "import warnings\n",
    "warnings.filterwarnings('ignore')\n",
    "\n",
    "import logging\n",
    "logging.basicConfig(format='%(levelname)s:%(message)s', level=logging.ERROR)\n",
    "\n",
    "import ads\n",
    "from ads.dataset.factory import DatasetFactory\n",
    "from ads.automl.provider import OracleAutoMLProvider\n",
    "from ads.automl.driver import AutoML\n",
    "from ads.evaluations.evaluator import ADSEvaluator\n",
    "from ads.common.data import ADSData\n",
    "from ads.explanations.explainer import ADSExplainer\n",
    "from ads.explanations.mlx_global_explainer import MLXGlobalExplainer\n",
    "from ads.explanations.mlx_local_explainer import MLXLocalExplainer\n",
    "from ads.catalog.model import ModelCatalog\n",
    "from ads.common.model_artifact import ModelArtifact\n",
    "```\n",
    "</details>\n",
    "<details>\n",
    "<summary><font size=\"2\">Useful Environment Variables</font></summary>\n",
    "\n",
    "```python\n",
    "import os\n",
    "print(os.environ[\"NB_SESSION_COMPARTMENT_OCID\"])\n",
    "print(os.environ[\"PROJECT_OCID\"])\n",
    "print(os.environ[\"USER_OCID\"])\n",
    "print(os.environ[\"TENANCY_OCID\"])\n",
    "print(os.environ[\"NB_REGION\"])\n",
    "```\n",
    "</details>"
   ]
  },
  {
   "cell_type": "code",
   "execution_count": 63,
   "id": "812a85d6-2c20-4c67-9e66-57cc10e22df4",
   "metadata": {
    "tags": []
   },
   "outputs": [],
   "source": [
    "import pandas as pd"
   ]
  },
  {
   "cell_type": "markdown",
   "id": "55e460aa-f0c4-49c4-b177-97face5b32c0",
   "metadata": {},
   "source": [
    "# Bank Marketing"
   ]
  },
  {
   "cell_type": "markdown",
   "id": "2a92a59e-5ff5-4514-af53-a8989a35025d",
   "metadata": {},
   "source": [
    "## 1) Business Understanding\n",
    "### Objective:\n",
    "#### The goal is to predict whether a customer will subscribe to a term deposit (target variable) based on various features (e.g., age, job, balance). The bank wants to optimize its marketing strategy by focusing on customers most likely to subscribe.\n",
    "\n",
    "### Key Questions:\n",
    "#### What are the target market segment for the Portuguese banking institution, and what shoud be customer retention policies\n",
    "\n",
    "### Success Criteria:\n",
    "#### Provide options to the Portuguese banking institution to optimize its marketing strategies, reduce costs, and increase the conversion rates of their marketing campaigns, thereby improving overall profitability"
   ]
  },
  {
   "cell_type": "markdown",
   "id": "ad241588-69a5-4a39-8b9d-0b1cbad83c5c",
   "metadata": {},
   "source": [
    "## 2) Data Understanding"
   ]
  },
  {
   "cell_type": "markdown",
   "id": "fdd291d8-66d7-4f2b-9850-155dd2ca6d59",
   "metadata": {
    "tags": []
   },
   "source": [
    "## 2.1 Data Collection"
   ]
  },
  {
   "cell_type": "markdown",
   "id": "13d44741-307d-4c54-ae86-7752ecacb4be",
   "metadata": {},
   "source": [
    "The data is related with direct marketing campaigns of a Portuguese banking institution. \n",
    "   The marketing campaigns were based on phone calls. Often, more than one contact to the same client was required, \n",
    "   in order to access if the product (bank term deposit) would be (or not) subscribed."
   ]
  },
  {
   "cell_type": "code",
   "execution_count": 64,
   "id": "e14b0b9e-f265-4c6f-8f82-bfff4861141c",
   "metadata": {
    "tags": []
   },
   "outputs": [
    {
     "name": "stdout",
     "output_type": "stream",
     "text": [
      "(45211, 17)\n",
      "   age           job  marital  education default  balance housing loan  \\\n",
      "0   58    management  married   tertiary      no     2143     yes   no   \n",
      "1   44    technician   single  secondary      no       29     yes   no   \n",
      "2   33  entrepreneur  married  secondary      no        2     yes  yes   \n",
      "3   47   blue-collar  married        NaN      no     1506     yes   no   \n",
      "4   33           NaN   single        NaN      no        1      no   no   \n",
      "\n",
      "  contact  day_of_week month  duration  campaign  pdays  previous poutcome  \\\n",
      "0     NaN            5   may       261         1     -1         0      NaN   \n",
      "1     NaN            5   may       151         1     -1         0      NaN   \n",
      "2     NaN            5   may        76         1     -1         0      NaN   \n",
      "3     NaN            5   may        92         1     -1         0      NaN   \n",
      "4     NaN            5   may       198         1     -1         0      NaN   \n",
      "\n",
      "  target  \n",
      "0     no  \n",
      "1     no  \n",
      "2     no  \n",
      "3     no  \n",
      "4     no  \n",
      "<class 'pandas.core.frame.DataFrame'>\n",
      "RangeIndex: 45211 entries, 0 to 45210\n",
      "Data columns (total 17 columns):\n",
      " #   Column       Non-Null Count  Dtype \n",
      "---  ------       --------------  ----- \n",
      " 0   age          45211 non-null  int64 \n",
      " 1   job          44923 non-null  object\n",
      " 2   marital      45211 non-null  object\n",
      " 3   education    43354 non-null  object\n",
      " 4   default      45211 non-null  object\n",
      " 5   balance      45211 non-null  int64 \n",
      " 6   housing      45211 non-null  object\n",
      " 7   loan         45211 non-null  object\n",
      " 8   contact      32191 non-null  object\n",
      " 9   day_of_week  45211 non-null  int64 \n",
      " 10  month        45211 non-null  object\n",
      " 11  duration     45211 non-null  int64 \n",
      " 12  campaign     45211 non-null  int64 \n",
      " 13  pdays        45211 non-null  int64 \n",
      " 14  previous     45211 non-null  int64 \n",
      " 15  poutcome     8252 non-null   object\n",
      " 16  target       45211 non-null  object\n",
      "dtypes: int64(7), object(10)\n",
      "memory usage: 5.9+ MB\n",
      "None\n",
      "target\n",
      "no     39922\n",
      "yes     5289\n",
      "Name: count, dtype: int64\n"
     ]
    }
   ],
   "source": [
    "from ucimlrepo import fetch_ucirepo\n",
    "import pandas as pd\n",
    "\n",
    "# Fetch the dataset\n",
    "bank_marketing = fetch_ucirepo(id=222)\n",
    "\n",
    "  \n",
    "# data (as pandas dataframes) \n",
    "df = pd.DataFrame(bank_marketing.data.features)\n",
    "df['target'] = bank_marketing.data.targets \n",
    "\n",
    "\n",
    "# Display the first few rows and basic information\n",
    "print(df.shape)\n",
    "print(df.head())\n",
    "print(df.info())\n",
    "print(df['target'].value_counts())  # Check the distribution of the target variable\n"
   ]
  },
  {
   "cell_type": "markdown",
   "id": "2bff5c91-6dba-4056-b8fd-d1daddb62509",
   "metadata": {},
   "source": [
    "Total number of dataset : 45,211\n",
    "\n",
    "Total number of features : 16\n",
    "\n",
    "Target variable : has the client subscribed a term deposit? (binary: \"yes\",\"no\")"
   ]
  },
  {
   "cell_type": "markdown",
   "id": "2edbd96c-895a-44f6-a8ba-fd6276553b61",
   "metadata": {},
   "source": [
    "## 2.2 Exploratory Data Analysis (EDA)"
   ]
  },
  {
   "cell_type": "code",
   "execution_count": 65,
   "id": "e2cd210f-c7ea-4a03-aaae-4bc716d8dfdc",
   "metadata": {
    "tags": []
   },
   "outputs": [
    {
     "name": "stdout",
     "output_type": "stream",
     "text": [
      "       age          job   marital  education default  balance housing loan  \\\n",
      "32009   80      retired   married    primary      no     1861      no   no   \n",
      "38907   32  blue-collar    single  secondary      no      218     yes   no   \n",
      "15446   32   management   married   tertiary      no      273     yes  yes   \n",
      "36929   48     services  divorced  secondary      no      201     yes   no   \n",
      "3114    29  blue-collar   married  secondary      no      294     yes   no   \n",
      "\n",
      "         contact  day_of_week month  duration  campaign  pdays  previous  \\\n",
      "32009  telephone           14   apr       563         2     -1         0   \n",
      "38907   cellular           18   may       134         1     -1         0   \n",
      "15446   cellular           18   jul        97         3     -1         0   \n",
      "36929   cellular           12   may       242         3    371         2   \n",
      "3114         NaN           14   may       594         2     -1         0   \n",
      "\n",
      "      poutcome target  \n",
      "32009      NaN     no  \n",
      "38907      NaN     no  \n",
      "15446      NaN     no  \n",
      "36929  failure     no  \n",
      "3114       NaN     no  \n",
      "<class 'pandas.core.frame.DataFrame'>\n",
      "Index: 10000 entries, 32009 to 30978\n",
      "Data columns (total 17 columns):\n",
      " #   Column       Non-Null Count  Dtype \n",
      "---  ------       --------------  ----- \n",
      " 0   age          10000 non-null  int64 \n",
      " 1   job          9940 non-null   object\n",
      " 2   marital      10000 non-null  object\n",
      " 3   education    9583 non-null   object\n",
      " 4   default      10000 non-null  object\n",
      " 5   balance      10000 non-null  int64 \n",
      " 6   housing      10000 non-null  object\n",
      " 7   loan         10000 non-null  object\n",
      " 8   contact      7116 non-null   object\n",
      " 9   day_of_week  10000 non-null  int64 \n",
      " 10  month        10000 non-null  object\n",
      " 11  duration     10000 non-null  int64 \n",
      " 12  campaign     10000 non-null  int64 \n",
      " 13  pdays        10000 non-null  int64 \n",
      " 14  previous     10000 non-null  int64 \n",
      " 15  poutcome     1780 non-null   object\n",
      " 16  target       10000 non-null  object\n",
      "dtypes: int64(7), object(10)\n",
      "memory usage: 1.4+ MB\n",
      "None\n",
      "                age       balance   day_of_week      duration      campaign  \\\n",
      "count  10000.000000  10000.000000  10000.000000  10000.000000  10000.000000   \n",
      "mean      40.987700   1363.053300     15.792300    260.813600      2.749200   \n",
      "std       10.590135   3200.744981      8.299244    259.282473      2.934512   \n",
      "min       19.000000  -8019.000000      1.000000      1.000000      1.000000   \n",
      "25%       33.000000     77.000000      8.000000    104.000000      1.000000   \n",
      "50%       39.000000    440.000000     16.000000    180.000000      2.000000   \n",
      "75%       49.000000   1410.000000     21.000000    324.000000      3.000000   \n",
      "max       93.000000  98417.000000     31.000000   3881.000000     38.000000   \n",
      "\n",
      "              pdays      previous  \n",
      "count  10000.000000  10000.000000  \n",
      "mean      39.054600      0.567000  \n",
      "std       99.451394      1.947021  \n",
      "min       -1.000000      0.000000  \n",
      "25%       -1.000000      0.000000  \n",
      "50%       -1.000000      0.000000  \n",
      "75%       -1.000000      0.000000  \n",
      "max      854.000000     58.000000  \n"
     ]
    }
   ],
   "source": [
    "# To make data exploration easie for the first iteration, I am just loading 10,00 random rows into a dataframe\n",
    "\n",
    "customer_sample = df.sample(n=10000)\n",
    "\n",
    "# Explore the dataset\n",
    "print(customer_sample.head())\n",
    "print(customer_sample.info())\n",
    "print(customer_sample.describe())\n"
   ]
  },
  {
   "cell_type": "markdown",
   "id": "02f35d02-a8b1-46b7-ab31-ea827ad31c6b",
   "metadata": {},
   "source": [
    "## 2.2 Prepeare the data from modelling"
   ]
  },
  {
   "cell_type": "code",
   "execution_count": 66,
   "id": "e337f3c6-152e-4cc8-af19-4b979ccc1574",
   "metadata": {
    "tags": []
   },
   "outputs": [],
   "source": [
    " # handle categorical variables, scaling numerical features, and splitting the data.\n",
    "    \n",
    "from sklearn.model_selection import train_test_split\n",
    "from sklearn.preprocessing import StandardScaler, OneHotEncoder\n",
    "from sklearn.compose import ColumnTransformer\n",
    "from sklearn.pipeline import Pipeline\n",
    "\n",
    "# Split the data into features and target\n",
    "X = df.drop('target', axis=1)\n",
    "y = df['target']\n",
    "\n",
    "# Identify categorical and numerical features\n",
    "categorical_features = X.select_dtypes(include=['object']).columns\n",
    "numerical_features = X.select_dtypes(exclude=['object']).columns\n",
    "\n",
    "# Define the preprocessing steps\n",
    "preprocessor = ColumnTransformer(\n",
    "    transformers=[\n",
    "        ('num', StandardScaler(), numerical_features),  # Standardize numerical features\n",
    "        ('cat', OneHotEncoder(drop='first'), categorical_features)  # One-Hot encode categorical features\n",
    "    ]\n",
    ")\n",
    "\n",
    "# Split the data into training and testing sets\n",
    "X_train, X_test, y_train, y_test = train_test_split(X, y, test_size=0.2, random_state=42, stratify=y)\n"
   ]
  },
  {
   "cell_type": "markdown",
   "id": "7f48a7e3-6505-43ef-a4fa-f931efb3d297",
   "metadata": {},
   "source": [
    "# 4. Modeling"
   ]
  },
  {
   "cell_type": "code",
   "execution_count": 67,
   "id": "e2044914-6dbc-45d5-8fec-73f409aca857",
   "metadata": {
    "tags": []
   },
   "outputs": [
    {
     "name": "stdout",
     "output_type": "stream",
     "text": [
      "K-Nearest Neighbors Accuracy: 0.8961\n",
      "              precision    recall  f1-score   support\n",
      "\n",
      "          no       0.92      0.97      0.94      7985\n",
      "         yes       0.59      0.36      0.44      1058\n",
      "\n",
      "    accuracy                           0.90      9043\n",
      "   macro avg       0.76      0.66      0.69      9043\n",
      "weighted avg       0.88      0.90      0.88      9043\n",
      "\n",
      "Logistic Regression Accuracy: 0.9014\n",
      "              precision    recall  f1-score   support\n",
      "\n",
      "          no       0.92      0.97      0.95      7985\n",
      "         yes       0.65      0.35      0.45      1058\n",
      "\n",
      "    accuracy                           0.90      9043\n",
      "   macro avg       0.78      0.66      0.70      9043\n",
      "weighted avg       0.89      0.90      0.89      9043\n",
      "\n",
      "Decision Tree Accuracy: 0.8725\n",
      "              precision    recall  f1-score   support\n",
      "\n",
      "          no       0.93      0.92      0.93      7985\n",
      "         yes       0.46      0.48      0.47      1058\n",
      "\n",
      "    accuracy                           0.87      9043\n",
      "   macro avg       0.69      0.70      0.70      9043\n",
      "weighted avg       0.88      0.87      0.87      9043\n",
      "\n",
      "Support Vector Machine Accuracy: 0.9034\n",
      "              precision    recall  f1-score   support\n",
      "\n",
      "          no       0.92      0.98      0.95      7985\n",
      "         yes       0.67      0.34      0.45      1058\n",
      "\n",
      "    accuracy                           0.90      9043\n",
      "   macro avg       0.79      0.66      0.70      9043\n",
      "weighted avg       0.89      0.90      0.89      9043\n",
      "\n"
     ]
    }
   ],
   "source": [
    "from sklearn.neighbors import KNeighborsClassifier\n",
    "from sklearn.linear_model import LogisticRegression\n",
    "from sklearn.tree import DecisionTreeClassifier\n",
    "from sklearn.svm import SVC\n",
    "from sklearn.metrics import classification_report, accuracy_score\n",
    "import matplotlib.pyplot as plt\n",
    "\n",
    "# Define classifiers\n",
    "classifiers = {\n",
    "    'K-Nearest Neighbors': KNeighborsClassifier(),\n",
    "    'Logistic Regression': LogisticRegression(max_iter=1000),\n",
    "    'Decision Tree': DecisionTreeClassifier(),\n",
    "    'Support Vector Machine': SVC(probability=True)\n",
    "}\n",
    "\n",
    "# Store results\n",
    "results = {}\n",
    "\n",
    "# Evaluate each classifier\n",
    "for name, clf in classifiers.items():\n",
    "    # Create a pipeline with preprocessing and the classifier\n",
    "    pipeline = Pipeline(steps=[\n",
    "        ('preprocessor', preprocessor),\n",
    "        ('classifier', clf)\n",
    "    ])\n",
    "    \n",
    "    # Fit the pipeline to the training data\n",
    "    pipeline.fit(X_train, y_train)\n",
    "    \n",
    "    # Make predictions on the test data\n",
    "    y_pred = pipeline.predict(X_test)\n",
    "    \n",
    "    # Evaluate the model\n",
    "    accuracy = accuracy_score(y_test, y_pred)\n",
    "    print(f\"{name} Accuracy: {accuracy:.4f}\")\n",
    "    print(classification_report(y_test, y_pred))\n",
    "    \n",
    "    # Store the results\n",
    "    results[name] = {\n",
    "        'accuracy': accuracy,\n",
    "        'classification_report': classification_report(y_test, y_pred, output_dict=True)\n",
    "    }"
   ]
  },
  {
   "cell_type": "markdown",
   "id": "d0d99fcc-ecec-41fc-8575-a435cec1bfcd",
   "metadata": {},
   "source": [
    "# 5. Evaluation"
   ]
  },
  {
   "cell_type": "code",
   "execution_count": 68,
   "id": "b016fee1-2a50-4723-afe0-ec02fedfe77e",
   "metadata": {
    "tags": []
   },
   "outputs": [],
   "source": [
    "# Compare the performance of the models using various metrics."
   ]
  },
  {
   "cell_type": "code",
   "execution_count": 69,
   "id": "666cf07d-5200-413c-bcbd-ff0265cdad76",
   "metadata": {
    "tags": []
   },
   "outputs": [
    {
     "name": "stdout",
     "output_type": "stream",
     "text": [
      "K-Nearest Neighbors - Accuracy: 0.8961\n",
      "Logistic Regression - Accuracy: 0.9014\n",
      "Decision Tree - Accuracy: 0.8725\n",
      "Support Vector Machine - Accuracy: 0.9034\n"
     ]
    },
    {
     "data": {
      "image/png": "[encoded data removed]",
      "text/plain": [
       "<Figure size 640x480 with 1 Axes>"
      ]
     },
     "metadata": {},
     "output_type": "display_data"
    }
   ],
   "source": [
    "# Compare accuracies\n",
    "for name, result in results.items():\n",
    "    print(f\"{name} - Accuracy: {result['accuracy']:.4f}\")\n",
    "\n",
    "# Optionally, plot the accuracies\n",
    "accuracies = [results[name]['accuracy'] for name in classifiers.keys()]\n",
    "plt.bar(classifiers.keys(), accuracies)\n",
    "plt.xlabel('Classifier')\n",
    "plt.ylabel('Accuracy')\n",
    "plt.title('Comparison of Classifier Accuracy')\n",
    "plt.xticks(rotation=45)\n",
    "plt.show()\n"
   ]
  },
  {
   "cell_type": "markdown",
   "id": "4d70c7e0-ca47-4eb6-98f5-f9c3eab35a7d",
   "metadata": {},
   "source": [
    "### 5.1 Cross-Validation"
   ]
  },
  {
   "cell_type": "markdown",
   "id": "e7672581-fc0b-438b-b831-23900dad416a",
   "metadata": {
    "tags": []
   },
   "source": [
    "Using cross-validation, we can further assess the model's generalization performance. Cross-validation provides a more reliable estimate of a model's performance on unseen data by averaging results over multiple folds."
   ]
  },
  {
   "cell_type": "code",
   "execution_count": null,
   "id": "4274eea0-c288-4ad1-ae3f-4493e7278d75",
   "metadata": {
    "tags": []
   },
   "outputs": [
    {
     "name": "stdout",
     "output_type": "stream",
     "text": [
      "\n",
      "Evaluating K-Nearest Neighbors...\n",
      "Training Accuracy: 0.9242\n",
      "Test Accuracy: 0.8961\n",
      "Cross-Validation Accuracy (mean of 5 folds): 0.8949\n",
      "Model is performing consistently between training and test sets.\n",
      "\n",
      "Evaluating Logistic Regression...\n",
      "Training Accuracy: 0.9021\n",
      "Test Accuracy: 0.9014\n",
      "Cross-Validation Accuracy (mean of 5 folds): 0.9017\n",
      "Model is performing consistently between training and test sets.\n",
      "\n",
      "Evaluating Decision Tree...\n",
      "Training Accuracy: 1.0000\n",
      "Test Accuracy: 0.8759\n",
      "Cross-Validation Accuracy (mean of 5 folds): 0.8739\n",
      "Potential overfitting detected: Training accuracy significantly higher than test accuracy.\n",
      "\n",
      "Evaluating Support Vector Machine...\n"
     ]
    }
   ],
   "source": [
    "from sklearn.model_selection import cross_val_score\n",
    "\n",
    "# Function to evaluate overfitting\n",
    "def evaluate_overfitting(model, X_train, X_test, y_train, y_test):\n",
    "    # Training score\n",
    "    train_score = model.score(X_train, y_train)\n",
    "    \n",
    "    # Test score\n",
    "    test_score = model.score(X_test, y_test)\n",
    "    \n",
    "    # Cross-validation score\n",
    "    cv_scores = cross_val_score(model, X_train, y_train, cv=5)\n",
    "    cv_mean = cv_scores.mean()\n",
    "    \n",
    "    print(f\"Training Accuracy: {train_score:.4f}\")\n",
    "    print(f\"Test Accuracy: {test_score:.4f}\")\n",
    "    print(f\"Cross-Validation Accuracy (mean of 5 folds): {cv_mean:.4f}\")\n",
    "    \n",
    "    if train_score > test_score + 0.1:\n",
    "        print(\"Potential overfitting detected: Training accuracy significantly higher than test accuracy.\")\n",
    "    elif test_score > train_score:\n",
    "        print(\"Model is underfitting: Test accuracy is higher than training accuracy.\")\n",
    "    else:\n",
    "        print(\"Model is performing consistently between training and test sets.\")\n",
    "\n",
    "# Evaluate all classifiers\n",
    "for name, clf in classifiers.items():\n",
    "    print(f\"\\nEvaluating {name}...\")\n",
    "    \n",
    "    # Create a pipeline with preprocessing and the classifier\n",
    "    model = Pipeline(steps=[\n",
    "        ('preprocessor', preprocessor),\n",
    "        ('classifier', clf)\n",
    "    ])\n",
    "    \n",
    "    # Fit the model on the training data\n",
    "    model.fit(X_train, y_train)\n",
    "    \n",
    "    # Evaluate overfitting\n",
    "    evaluate_overfitting(model, X_train, X_test, y_train, y_test)\n"
   ]
  },
  {
   "cell_type": "markdown",
   "id": "ccd7ef86-f542-4b15-8d64-44877fb7dfb9",
   "metadata": {
    "tags": []
   },
   "source": [
    "# 6 Interpretation of Results"
   ]
  },
  {
   "cell_type": "markdown",
   "id": "989fd936-c12c-45a4-a0d9-32175e2935aa",
   "metadata": {},
   "source": [
    "Visualize the classification methods "
   ]
  },
  {
   "cell_type": "code",
   "execution_count": null,
   "id": "15f5b218-f89d-4b0b-95a1-3f243289fc5a",
   "metadata": {
    "tags": []
   },
   "outputs": [],
   "source": [
    "import numpy as np\n",
    "import matplotlib.pyplot as plt\n",
    "import seaborn as sns\n",
    "from sklearn.neighbors import KNeighborsClassifier\n",
    "from sklearn.linear_model import LogisticRegression\n",
    "from sklearn.tree import DecisionTreeClassifier\n",
    "from sklearn.svm import SVC\n",
    "from sklearn.pipeline import make_pipeline\n",
    "from sklearn.preprocessing import StandardScaler, OneHotEncoder\n",
    "from sklearn.compose import ColumnTransformer\n",
    "from sklearn.model_selection import train_test_split\n",
    "from sklearn.compose import make_column_selector\n",
    "\n",
    "# Select two features for visualization\n",
    "selected_features = ['age', 'balance']\n",
    "X = df[selected_features]\n",
    "y = df['target']\n",
    "\n",
    "# Encode categorical target\n",
    "y = y.map({'no': 0, 'yes': 1})\n",
    "\n",
    "# Split the data into training and testing sets\n",
    "X_train, X_test, y_train, y_test = train_test_split(X, y, test_size=0.2, random_state=42, stratify=y)\n",
    "\n",
    "# Define classifiers\n",
    "classifiers = {\n",
    "    'K-Nearest Neighbors': KNeighborsClassifier(),\n",
    "    'Logistic Regression': LogisticRegression(),\n",
    "    'Decision Tree': DecisionTreeClassifier(),\n",
    "    'Support Vector Machine': SVC(kernel='linear')\n",
    "}\n",
    "\n",
    "# Prepare the grid for visualization\n",
    "xx = np.linspace(X_train['age'].min(), X_train['age'].max(), 50)\n",
    "yy = np.linspace(X_train['balance'].min(), X_train['balance'].max(), 50)\n",
    "XX, YY = np.meshgrid(xx, yy)\n",
    "grid = np.c_[XX.ravel(), YY.ravel()]\n",
    "\n",
    "# Set up the plot\n",
    "plt.figure(figsize=(15, 10))\n",
    "\n",
    "# Visualize each classifier's decision boundary\n",
    "for i, (name, clf) in enumerate(classifiers.items()):\n",
    "    plt.subplot(2, 2, i + 1)\n",
    "    \n",
    "    # Create a pipeline for each classifier\n",
    "    model = make_pipeline(StandardScaler(), clf)\n",
    "    \n",
    "    # Fit the model on the training data\n",
    "    model.fit(X_train, y_train)\n",
    "    \n",
    "    # Predict labels for the grid\n",
    "    labels = model.predict(grid)\n",
    "    \n",
    "    # Plot decision boundary\n",
    "    plt.contourf(XX, YY, labels.reshape(XX.shape), cmap='tab10', alpha=0.3)\n",
    "    \n",
    "    # Plot training points\n",
    "    sns.scatterplot(data=X_train, x='age', y='balance', hue=y_train, palette='tab10', edgecolor='k', s=50)\n",
    "    \n",
    "    # Set plot title and labels\n",
    "    plt.title(f\"{name}\")\n",
    "    plt.xlabel('Age')\n",
    "    plt.ylabel('Balance')\n",
    "\n",
    "plt.tight_layout()\n",
    "plt.show()\n"
   ]
  },
  {
   "cell_type": "code",
   "execution_count": null,
   "id": "ada70d6a-ae95-439b-b580-2a1619e56f28",
   "metadata": {
    "tags": []
   },
   "outputs": [],
   "source": [
    "import numpy as np\n",
    "import pandas as pd\n",
    "import seaborn as sns\n",
    "import matplotlib.pyplot as plt\n",
    "from sklearn.linear_model import LogisticRegression\n",
    "from sklearn.preprocessing import OneHotEncoder\n",
    "from sklearn.compose import ColumnTransformer\n",
    "from sklearn.pipeline import Pipeline\n",
    "from sklearn.model_selection import train_test_split\n",
    "\n",
    "# Assuming 'df' is your DataFrame and 'target' is the outcome variable\n",
    "# df = pd.DataFrame(data) # Uncomment if you have a DataFrame\n",
    "\n",
    "# Select only the relevant features\n",
    "X = df[['job', 'marital', 'education']]\n",
    "y = df['target']\n",
    "\n",
    "# Encode categorical features\n",
    "preprocessor = ColumnTransformer(\n",
    "    transformers=[\n",
    "        ('cat', OneHotEncoder(), ['job', 'marital', 'education'])\n",
    "    ]\n",
    ")\n",
    "\n",
    "# Split the data\n",
    "X_train, X_test, y_train, y_test = train_test_split(X, y, test_size=0.2, random_state=42)\n",
    "\n",
    "# Build a simple Logistic Regression model pipeline\n",
    "pipeline = Pipeline(steps=[\n",
    "    ('preprocessor', preprocessor),\n",
    "    ('classifier', LogisticRegression(max_iter=1000))\n",
    "])\n",
    "\n",
    "# Train the model\n",
    "pipeline.fit(X_train, y_train)\n",
    "\n",
    "# Visualize decision boundaries for two of the encoded features\n",
    "\n",
    "# Generate a grid of points covering the feature space\n",
    "xx, yy = np.linspace(X_train['job'].min(), X_train['job'].max(), 50), np.linspace(X_train['marital'].min(), X_train['marital'].max(), 50)\n",
    "XX, YY = np.meshgrid(xx, yy)\n",
    "grid = np.c_[XX.ravel(), YY.ravel()]\n",
    "\n",
    "# Predict the grid using the trained model\n",
    "# Note: This assumes you have access to the evaluate_kernel_model function\n",
    "labels = pipeline.predict(grid).reshape(XX.shape)\n",
    "\n",
    "# Plot the decision boundary\n",
    "plt.contourf(XX, YY, labels, cmap='tab10', alpha=0.3)\n",
    "sns.scatterplot(x='job', y='marital', hue='target', data=df)\n",
    "plt.show()\n"
   ]
  },
  {
   "cell_type": "markdown",
   "id": "503d6449-f220-44a8-a5d8-10ae65a9bffb",
   "metadata": {
    "tags": []
   },
   "source": [
    "## 7 Recommendations"
   ]
  },
  {
   "cell_type": "code",
   "execution_count": null,
   "id": "581824fd-38c6-4228-9c2a-8ccf59fce91c",
   "metadata": {},
   "outputs": [],
   "source": []
  },
  {
   "cell_type": "markdown",
   "id": "06bc2dfc-03b1-4a02-9c68-6dd1e8d8c89d",
   "metadata": {
    "tags": []
   },
   "source": [
    "### 7.1 Features with significant impact:"
   ]
  },
  {
   "cell_type": "markdown",
   "id": "e5735419-2442-4c20-b6d3-f2e054065589",
   "metadata": {},
   "source": [
    "## 8 Conclusions"
   ]
  },
  {
   "cell_type": "code",
   "execution_count": null,
   "id": "65f4d67b-f3c4-4bf8-8096-9c63d93243a4",
   "metadata": {},
   "outputs": [],
   "source": []
  }
 ],
 "metadata": {
  "kernelspec": {
   "display_name": "Python 3 (ipykernel)",
   "language": "python",
   "name": "python3"
  },
  "language_info": {
   "codemirror_mode": {
    "name": "ipython",
    "version": 3
   },
   "file_extension": ".py",
   "mimetype": "text/x-python",
   "name": "python",
   "nbconvert_exporter": "python",
   "pygments_lexer": "ipython3",
   "version": "3.8.19"
  }
 },
 "nbformat": 4,
 "nbformat_minor": 5
}
